{
  "nbformat": 4,
  "nbformat_minor": 0,
  "metadata": {
    "colab": {
      "name": "Minor2.ipynb",
      "provenance": [],
      "collapsed_sections": []
    },
    "kernelspec": {
      "name": "python3",
      "display_name": "Python 3"
    }
  },
  "cells": [
    {
      "cell_type": "code",
      "metadata": {
        "id": "BTSf6U3TBJ1X",
        "colab_type": "code",
        "colab": {}
      },
      "source": [
        "%tensorflow_version 2.x\n",
        "import tensorflow as tf\n",
        "from google.colab import drive"
      ],
      "execution_count": 0,
      "outputs": []
    },
    {
      "cell_type": "code",
      "metadata": {
        "id": "str9GDNTEi6w",
        "colab_type": "code",
        "outputId": "54ea0613-12b2-4369-e147-92970967e73a",
        "colab": {
          "base_uri": "https://localhost:8080/",
          "height": 34
        }
      },
      "source": [
        "drive.mount('/content/gdrive/',force_remount=True)"
      ],
      "execution_count": 0,
      "outputs": [
        {
          "output_type": "stream",
          "text": [
            "Mounted at /content/gdrive/\n"
          ],
          "name": "stdout"
        }
      ]
    },
    {
      "cell_type": "code",
      "metadata": {
        "id": "jy1UEBppEoHB",
        "colab_type": "code",
        "colab": {}
      },
      "source": [
        "path = '/content/gdrive/My Drive/Colab Notebooks/Minor/'"
      ],
      "execution_count": 0,
      "outputs": []
    },
    {
      "cell_type": "code",
      "metadata": {
        "id": "iG0hgDD-E0SB",
        "colab_type": "code",
        "outputId": "b4d1a1fd-0ddd-41ad-ef38-b8811440db38",
        "colab": {
          "base_uri": "https://localhost:8080/",
          "height": 340
        }
      },
      "source": [
        "import os\n",
        "import pandas as pd\n",
        "import numpy as np\n",
        "import matplotlib.pyplot as plt\n",
        "from gensim.models import Word2Vec\n",
        "os.listdir(path)"
      ],
      "execution_count": 0,
      "outputs": [
        {
          "output_type": "execute_result",
          "data": {
            "text/plain": [
              "['sample_train_data.csv',\n",
              " 'Minor_train_data.csv',\n",
              " 'train_data',\n",
              " 'train_data_score',\n",
              " 'Sick.csv',\n",
              " 'word2vec',\n",
              " 'test_table.csv',\n",
              " 'MODEL',\n",
              " 'MODEL_STACK',\n",
              " 'MODEL_BIDIRECTIONAL',\n",
              " 'test.png',\n",
              " 'Minor_train_data.gsheet',\n",
              " 'minor-2 data',\n",
              " 'test1.png',\n",
              " 'Minor Project report final.docx',\n",
              " 'Minor2_model.h5',\n",
              " 'Minor2_attention.h5',\n",
              " 'Minor2_model_run_again.h5',\n",
              " 'Minor2_attention_run_again.h5']"
            ]
          },
          "metadata": {
            "tags": []
          },
          "execution_count": 31
        }
      ]
    },
    {
      "cell_type": "markdown",
      "metadata": {
        "id": "v62yvCryon72",
        "colab_type": "text"
      },
      "source": [
        "## **Load Dataframe**"
      ]
    },
    {
      "cell_type": "code",
      "metadata": {
        "id": "LA3UCYzDE3Ix",
        "colab_type": "code",
        "outputId": "cbd3a2eb-4871-4f58-e935-d1880ac46f37",
        "colab": {
          "base_uri": "https://localhost:8080/",
          "height": 289
        }
      },
      "source": [
        "train_data = pd.read_csv(path+'Sick.csv')\n",
        "test_data = pd.read_csv(path+'Minor_train_data.csv',names=['index','Answer','score','Correct'])\n",
        "train_data.head()"
      ],
      "execution_count": 0,
      "outputs": [
        {
          "output_type": "execute_result",
          "data": {
            "text/html": [
              "<div>\n",
              "<style scoped>\n",
              "    .dataframe tbody tr th:only-of-type {\n",
              "        vertical-align: middle;\n",
              "    }\n",
              "\n",
              "    .dataframe tbody tr th {\n",
              "        vertical-align: top;\n",
              "    }\n",
              "\n",
              "    .dataframe thead th {\n",
              "        text-align: right;\n",
              "    }\n",
              "</style>\n",
              "<table border=\"1\" class=\"dataframe\">\n",
              "  <thead>\n",
              "    <tr style=\"text-align: right;\">\n",
              "      <th></th>\n",
              "      <th>pair_ID</th>\n",
              "      <th>sentence_A</th>\n",
              "      <th>sentence_B</th>\n",
              "      <th>entailment_label</th>\n",
              "      <th>relatedness_score</th>\n",
              "      <th>entailment_AB</th>\n",
              "      <th>entailment_BA</th>\n",
              "      <th>sentence_A_original</th>\n",
              "      <th>sentence_B_original</th>\n",
              "      <th>sentence_A_dataset</th>\n",
              "      <th>sentence_B_dataset</th>\n",
              "      <th>SemEval_set</th>\n",
              "    </tr>\n",
              "  </thead>\n",
              "  <tbody>\n",
              "    <tr>\n",
              "      <th>0</th>\n",
              "      <td>1</td>\n",
              "      <td>A group of kids is playing in a yard and an ol...</td>\n",
              "      <td>A group of boys in a yard is playing and a man...</td>\n",
              "      <td>NEUTRAL</td>\n",
              "      <td>4.5</td>\n",
              "      <td>A_neutral_B</td>\n",
              "      <td>B_neutral_A</td>\n",
              "      <td>A group of children playing in a yard, a man i...</td>\n",
              "      <td>A group of children playing in a yard, a man i...</td>\n",
              "      <td>FLICKR</td>\n",
              "      <td>FLICKR</td>\n",
              "      <td>TRAIN</td>\n",
              "    </tr>\n",
              "    <tr>\n",
              "      <th>1</th>\n",
              "      <td>2</td>\n",
              "      <td>A group of children is playing in the house an...</td>\n",
              "      <td>A group of kids is playing in a yard and an ol...</td>\n",
              "      <td>NEUTRAL</td>\n",
              "      <td>3.2</td>\n",
              "      <td>A_contradicts_B</td>\n",
              "      <td>B_neutral_A</td>\n",
              "      <td>A group of children playing in a yard, a man i...</td>\n",
              "      <td>A group of children playing in a yard, a man i...</td>\n",
              "      <td>FLICKR</td>\n",
              "      <td>FLICKR</td>\n",
              "      <td>TRAIN</td>\n",
              "    </tr>\n",
              "    <tr>\n",
              "      <th>2</th>\n",
              "      <td>3</td>\n",
              "      <td>The young boys are playing outdoors and the ma...</td>\n",
              "      <td>The kids are playing outdoors near a man with ...</td>\n",
              "      <td>ENTAILMENT</td>\n",
              "      <td>4.7</td>\n",
              "      <td>A_entails_B</td>\n",
              "      <td>B_entails_A</td>\n",
              "      <td>The children are playing outdoors, while a man...</td>\n",
              "      <td>The children are playing outdoors, while a man...</td>\n",
              "      <td>FLICKR</td>\n",
              "      <td>FLICKR</td>\n",
              "      <td>TRAIN</td>\n",
              "    </tr>\n",
              "    <tr>\n",
              "      <th>3</th>\n",
              "      <td>4</td>\n",
              "      <td>The young boys are playing outdoors and the ma...</td>\n",
              "      <td>There is no boy playing outdoors and there is ...</td>\n",
              "      <td>CONTRADICTION</td>\n",
              "      <td>3.6</td>\n",
              "      <td>A_contradicts_B</td>\n",
              "      <td>B_contradicts_A</td>\n",
              "      <td>The children are playing outdoors, while a man...</td>\n",
              "      <td>The children are playing outdoors, while a man...</td>\n",
              "      <td>FLICKR</td>\n",
              "      <td>FLICKR</td>\n",
              "      <td>TRIAL</td>\n",
              "    </tr>\n",
              "    <tr>\n",
              "      <th>4</th>\n",
              "      <td>5</td>\n",
              "      <td>The kids are playing outdoors near a man with ...</td>\n",
              "      <td>A group of kids is playing in a yard and an ol...</td>\n",
              "      <td>NEUTRAL</td>\n",
              "      <td>3.4</td>\n",
              "      <td>A_neutral_B</td>\n",
              "      <td>B_neutral_A</td>\n",
              "      <td>A group of children playing in a yard, a man i...</td>\n",
              "      <td>The children are playing outdoors, while a man...</td>\n",
              "      <td>FLICKR</td>\n",
              "      <td>FLICKR</td>\n",
              "      <td>TRAIN</td>\n",
              "    </tr>\n",
              "  </tbody>\n",
              "</table>\n",
              "</div>"
            ],
            "text/plain": [
              "   pair_ID  ... SemEval_set\n",
              "0        1  ...       TRAIN\n",
              "1        2  ...       TRAIN\n",
              "2        3  ...       TRAIN\n",
              "3        4  ...       TRIAL\n",
              "4        5  ...       TRAIN\n",
              "\n",
              "[5 rows x 12 columns]"
            ]
          },
          "metadata": {
            "tags": []
          },
          "execution_count": 32
        }
      ]
    },
    {
      "cell_type": "markdown",
      "metadata": {
        "id": "-FLdDtB5ozDs",
        "colab_type": "text"
      },
      "source": [
        "## **word to numeric**"
      ]
    },
    {
      "cell_type": "code",
      "metadata": {
        "id": "ihReFoSwGw3M",
        "colab_type": "code",
        "colab": {}
      },
      "source": [
        "def preprocess(df):\n",
        "  X,Y = np.append(df['sentence_A'].values,df['sentence_B'].values)[:,None],np.append(df['relatedness_score'].values,df['relatedness_score'].values)[:,None]  \n",
        "  temp = np.append(df['sentence_A_original'].values,df['sentence_B_original'].values)[:,None]\n",
        "  return np.append(X,temp,axis=1),Y"
      ],
      "execution_count": 0,
      "outputs": []
    },
    {
      "cell_type": "code",
      "metadata": {
        "id": "0m1l_oi53i_5",
        "colab_type": "code",
        "colab": {}
      },
      "source": [
        ""
      ],
      "execution_count": 0,
      "outputs": []
    },
    {
      "cell_type": "code",
      "metadata": {
        "id": "Yx5RfjjlFM9W",
        "colab_type": "code",
        "colab": {}
      },
      "source": [
        "X_train,Y_train = preprocess(train_data)\n",
        "X_test,Y_test = (test_data[['Answer','Correct']].values),test_data['score'].values[:,None]"
      ],
      "execution_count": 0,
      "outputs": []
    },
    {
      "cell_type": "code",
      "metadata": {
        "id": "4KjMljSaIe-C",
        "colab_type": "code",
        "outputId": "0867ae21-f38d-4a0a-9be3-85665a38efc2",
        "colab": {
          "base_uri": "https://localhost:8080/",
          "height": 34
        }
      },
      "source": [
        "X_train.shape,Y_train.shape,X_test.shape,Y_test.shape"
      ],
      "execution_count": 0,
      "outputs": [
        {
          "output_type": "execute_result",
          "data": {
            "text/plain": [
              "((19680, 2), (19680, 1), (138, 2), (138, 1))"
            ]
          },
          "metadata": {
            "tags": []
          },
          "execution_count": 35
        }
      ]
    },
    {
      "cell_type": "code",
      "metadata": {
        "id": "XA4ZmTLaH1Lc",
        "colab_type": "code",
        "colab": {}
      },
      "source": [
        "def work(words,dat,seq_length=None):\n",
        "  index1 = []\n",
        "  index2 = []\n",
        "  for i in dat:\n",
        "    temp1 = []\n",
        "    temp2 = []\n",
        "    for j in i[0].split():\n",
        "      temp1.append(words.index(j))\n",
        "    for j in i[1].split():\n",
        "      temp2.append(words.index(j))\n",
        "    temp1 = np.array(temp1)\n",
        "    temp2 = np.array(temp2)      \n",
        "    index1.append(temp1)\n",
        "    index2.append(temp2)\n",
        "  \n",
        "  return np.asarray(index1),np.asarray(index2)\n",
        "\n",
        "def words_to_num(train,test,seq_length=None):\n",
        "  words = []\n",
        "  words += ' '\n",
        "  for i in   [ s.split() for s in train[:,0] ] :\n",
        "    words += i\n",
        "  for i in   [ s.split() for s in train[:,1] ] :\n",
        "    words += i\n",
        "  for i in   [ s.split() for s in test[:,0] ] :\n",
        "    words += i\n",
        "  for i in   [ s.split() for s in test[:,1] ] :\n",
        "    words += i\n",
        "  words = list(set(words))\n",
        "  \n",
        "  index_train1,index_train2 = work(words,train,seq_length)\n",
        "  index_test1,index_test2 = work(words,test,seq_length)\n",
        "  return np.array(words),index_train1,index_train2,index_test1,index_test2\n",
        "\n",
        "    \n"
      ],
      "execution_count": 0,
      "outputs": []
    },
    {
      "cell_type": "code",
      "metadata": {
        "id": "sgvyt1egMSX1",
        "colab_type": "code",
        "colab": {}
      },
      "source": [
        "vocabs,X_train1,X_train2,X_test1,X_test2 = words_to_num(X_train,X_test)"
      ],
      "execution_count": 0,
      "outputs": []
    },
    {
      "cell_type": "code",
      "metadata": {
        "id": "TlxBgorFhiCw",
        "colab_type": "code",
        "outputId": "75bd1eba-6504-463c-c041-53f4e9b76715",
        "colab": {
          "base_uri": "https://localhost:8080/",
          "height": 85
        }
      },
      "source": [
        "print(X_test[0,1])\n",
        "print(X_test2[0])\n",
        "print(vocabs[X_test2[0]])"
      ],
      "execution_count": 0,
      "outputs": [
        {
          "output_type": "stream",
          "text": [
            "To simulate the behaviour of portions of the desired software product. \n",
            "[3304   30 3068 3168 3469 2534 3469 3068  407 3505 1380]\n",
            "['To' 'simulate' 'the' 'behaviour' 'of' 'portions' 'of' 'the' 'desired'\n",
            " 'software' 'product.']\n"
          ],
          "name": "stdout"
        }
      ]
    },
    {
      "cell_type": "code",
      "metadata": {
        "id": "tOoSUQGDzFE0",
        "colab_type": "code",
        "outputId": "5a0ff5e9-b0c1-4839-dfdb-750476ce3704",
        "colab": {
          "base_uri": "https://localhost:8080/",
          "height": 34
        }
      },
      "source": [
        "np.where(vocabs==' ')"
      ],
      "execution_count": 0,
      "outputs": [
        {
          "output_type": "execute_result",
          "data": {
            "text/plain": [
              "(array([2137]),)"
            ]
          },
          "metadata": {
            "tags": []
          },
          "execution_count": 43
        }
      ]
    },
    {
      "cell_type": "code",
      "metadata": {
        "id": "tSfoIGfixYEM",
        "colab_type": "code",
        "colab": {}
      },
      "source": [
        "X_train1 = tf.keras.preprocessing.sequence.pad_sequences(X_train1,padding='post',truncating='post',value=np.where(vocabs==' ')[0])\n",
        "X_train2 = tf.keras.preprocessing.sequence.pad_sequences(X_train2,padding='post',truncating='post',value=np.where(vocabs==' ')[0])\n",
        "X_test1 = tf.keras.preprocessing.sequence.pad_sequences(X_test1,padding='post',truncating='post',value=np.where(vocabs==' ')[0])\n",
        "X_test2 = tf.keras.preprocessing.sequence.pad_sequences(X_test2,padding='post',truncating='post',value=np.where(vocabs==' ')[0])"
      ],
      "execution_count": 0,
      "outputs": []
    },
    {
      "cell_type": "code",
      "metadata": {
        "id": "f_FgHPBRyAhN",
        "colab_type": "code",
        "outputId": "8c1b4a17-29cc-49d8-92e4-03e29fbea860",
        "colab": {
          "base_uri": "https://localhost:8080/",
          "height": 34
        }
      },
      "source": [
        "X_train1.shape,X_train2.shape,X_test1.shape,X_test2.shape"
      ],
      "execution_count": 0,
      "outputs": [
        {
          "output_type": "execute_result",
          "data": {
            "text/plain": [
              "((19680, 32), (19680, 25), (138, 115), (138, 23))"
            ]
          },
          "metadata": {
            "tags": []
          },
          "execution_count": 45
        }
      ]
    },
    {
      "cell_type": "code",
      "metadata": {
        "id": "OZl5zTz_yT-5",
        "colab_type": "code",
        "outputId": "ee2678a5-a0df-4875-be51-91a7f8b78c81",
        "colab": {
          "base_uri": "https://localhost:8080/",
          "height": 85
        }
      },
      "source": [
        "vocabs[X_train1[0]]"
      ],
      "execution_count": 0,
      "outputs": [
        {
          "output_type": "execute_result",
          "data": {
            "text/plain": [
              "array(['A', 'group', 'of', 'kids', 'is', 'playing', 'in', 'a', 'yard',\n",
              "       'and', 'an', 'old', 'man', 'is', 'standing', 'in', 'the',\n",
              "       'background', ' ', ' ', ' ', ' ', ' ', ' ', ' ', ' ', ' ', ' ',\n",
              "       ' ', ' ', ' ', ' '], dtype='<U23')"
            ]
          },
          "metadata": {
            "tags": []
          },
          "execution_count": 46
        }
      ]
    },
    {
      "cell_type": "markdown",
      "metadata": {
        "id": "HXdUWpQso9KW",
        "colab_type": "text"
      },
      "source": [
        "## **create Embedding**"
      ]
    },
    {
      "cell_type": "code",
      "metadata": {
        "id": "sOC97TohbBYQ",
        "colab_type": "code",
        "colab": {}
      },
      "source": [
        "def create_embed(vocabs):\n",
        "     word2vec = Word2Vec(vocabs,size=300)\n",
        "     embeddings = np.random.randn(len(vocabs),300)\n",
        "     for i in range(len(vocabs)):\n",
        "       if vocabs[i] in word2vec.wv.vocab:\n",
        "         embeddings[i] = word2vec.wv.word_vec(vocabs[i])\n",
        "     return embeddings    \n"
      ],
      "execution_count": 0,
      "outputs": []
    },
    {
      "cell_type": "code",
      "metadata": {
        "id": "YbBa3VPPlqA4",
        "colab_type": "code",
        "outputId": "b09f6cc8-740f-4234-afc7-2bf1d1a0afbb",
        "colab": {
          "base_uri": "https://localhost:8080/",
          "height": 34
        }
      },
      "source": [
        "embeddings = create_embed(vocabs)\n",
        "embeddings.shape"
      ],
      "execution_count": 0,
      "outputs": [
        {
          "output_type": "execute_result",
          "data": {
            "text/plain": [
              "(3848, 300)"
            ]
          },
          "metadata": {
            "tags": []
          },
          "execution_count": 48
        }
      ]
    },
    {
      "cell_type": "markdown",
      "metadata": {
        "id": "P4IFwHNMpBrE",
        "colab_type": "text"
      },
      "source": [
        "## **model**"
      ]
    },
    {
      "cell_type": "code",
      "metadata": {
        "id": "K-MzlzIvn7vu",
        "colab_type": "code",
        "colab": {}
      },
      "source": [
        "def simple_model(dt1,dt2,embeddings=embeddings,batch_size=32):\n",
        "  layer2_1 = tf.keras.layers.Embedding(embeddings.shape[0],embeddings.shape[1],weights=[embeddings],batch_input_shape=[batch_size,None],trainable =False)\n",
        "  \n",
        "  layer2 = tf.keras.layers.LSTM(1024, return_sequences=True, recurrent_initializer='glorot_uniform',recurrent_activation='sigmoid',stateful=True)\n",
        "  layer3 = tf.keras.layers.Dense(150,activation = 'sigmoid')\n",
        "  layer4 = tf.keras.layers.Dense(1,activation = 'sigmoid',)\n",
        "  \n",
        "  layer1 = tf.keras.Input(shape=(None,),batch_size=batch_size)\n",
        "  layer1_2 = tf.keras.Input(shape=(None,),batch_size=batch_size)\n",
        "\n",
        "  out1 = layer2_1(layer1)\n",
        "  out1 = layer2(out1)\n",
        "\n",
        "  out2 = layer2_1(layer1_2)\n",
        "  out2 = layer2(out2)\n",
        "\n",
        "  out3 = tf.concat([out1,out2],axis=1)\n",
        " \n",
        "  out3 = tf.keras.layers.GlobalMaxPooling1D()(out3)\n",
        "  out3 = layer3(out3)\n",
        "  out4 = layer4(out3)\n",
        "  out4 = tf.keras.layers.Lambda(lambda x:x*5)(out4)\n",
        "  return tf.keras.Model([layer1,layer1_2],[out4])\n",
        "\n",
        "\n"
      ],
      "execution_count": 0,
      "outputs": []
    },
    {
      "cell_type": "code",
      "metadata": {
        "id": "WseUTFgO6MzL",
        "colab_type": "code",
        "outputId": "5a01b6ad-1bc4-47df-f75a-392d3aff7df9",
        "colab": {
          "base_uri": "https://localhost:8080/",
          "height": 34
        }
      },
      "source": [
        "X_train1.dtype,X_train2.dtype,X_test1.dtype,X_test2.dtype,"
      ],
      "execution_count": 0,
      "outputs": [
        {
          "output_type": "execute_result",
          "data": {
            "text/plain": [
              "(dtype('int32'), dtype('int32'), dtype('int32'), dtype('int32'))"
            ]
          },
          "metadata": {
            "tags": []
          },
          "execution_count": 20
        }
      ]
    },
    {
      "cell_type": "code",
      "metadata": {
        "id": "Pflndc0cd6ys",
        "colab_type": "code",
        "colab": {}
      },
      "source": [
        "model = simple_model(X_train1[:48],X_train2[:48]) "
      ],
      "execution_count": 0,
      "outputs": []
    },
    {
      "cell_type": "code",
      "metadata": {
        "id": "9b0WcDpjjm_c",
        "colab_type": "code",
        "outputId": "d6c8d811-2804-4a12-e126-6d83f18a3381",
        "colab": {
          "base_uri": "https://localhost:8080/",
          "height": 510
        }
      },
      "source": [
        "model.summary()"
      ],
      "execution_count": 0,
      "outputs": [
        {
          "output_type": "stream",
          "text": [
            "Model: \"model\"\n",
            "__________________________________________________________________________________________________\n",
            "Layer (type)                    Output Shape         Param #     Connected to                     \n",
            "==================================================================================================\n",
            "input_1 (InputLayer)            [(32, None)]         0                                            \n",
            "__________________________________________________________________________________________________\n",
            "input_2 (InputLayer)            [(32, None)]         0                                            \n",
            "__________________________________________________________________________________________________\n",
            "embedding (Embedding)           (32, None, 300)      1154400     input_1[0][0]                    \n",
            "                                                                 input_2[0][0]                    \n",
            "__________________________________________________________________________________________________\n",
            "lstm (LSTM)                     (32, None, 1024)     5427200     embedding[0][0]                  \n",
            "                                                                 embedding[1][0]                  \n",
            "__________________________________________________________________________________________________\n",
            "tf_op_layer_concat (TensorFlowO [(32, None, 1024)]   0           lstm[0][0]                       \n",
            "                                                                 lstm[1][0]                       \n",
            "__________________________________________________________________________________________________\n",
            "global_max_pooling1d (GlobalMax (32, 1024)           0           tf_op_layer_concat[0][0]         \n",
            "__________________________________________________________________________________________________\n",
            "dense (Dense)                   (32, 150)            153750      global_max_pooling1d[0][0]       \n",
            "__________________________________________________________________________________________________\n",
            "dense_1 (Dense)                 (32, 1)              151         dense[0][0]                      \n",
            "__________________________________________________________________________________________________\n",
            "lambda (Lambda)                 (32, 1)              0           dense_1[0][0]                    \n",
            "==================================================================================================\n",
            "Total params: 6,735,501\n",
            "Trainable params: 5,581,101\n",
            "Non-trainable params: 1,154,400\n",
            "__________________________________________________________________________________________________\n"
          ],
          "name": "stdout"
        }
      ]
    },
    {
      "cell_type": "code",
      "metadata": {
        "id": "V5t9u6yq1vHN",
        "colab_type": "code",
        "outputId": "19a8698f-45bb-45d0-bab4-12bf4541c83e",
        "colab": {
          "base_uri": "https://localhost:8080/",
          "height": 34
        }
      },
      "source": [
        "type(X_train1)"
      ],
      "execution_count": 0,
      "outputs": [
        {
          "output_type": "execute_result",
          "data": {
            "text/plain": [
              "numpy.ndarray"
            ]
          },
          "metadata": {
            "tags": []
          },
          "execution_count": 26
        }
      ]
    },
    {
      "cell_type": "code",
      "metadata": {
        "id": "gCHo5dgiz_K9",
        "colab_type": "code",
        "outputId": "c0b04603-0ca0-41b2-de81-e9101f37d979",
        "colab": {
          "base_uri": "https://localhost:8080/",
          "height": 34
        }
      },
      "source": [
        "X_train1.shape,X_train2.shape"
      ],
      "execution_count": 0,
      "outputs": [
        {
          "output_type": "execute_result",
          "data": {
            "text/plain": [
              "((19680, 32), (19680, 25))"
            ]
          },
          "metadata": {
            "tags": []
          },
          "execution_count": 27
        }
      ]
    },
    {
      "cell_type": "code",
      "metadata": {
        "id": "FR0EK2UQtHeR",
        "colab_type": "code",
        "colab": {}
      },
      "source": [
        "def compute_loss(y,y_hat):\n",
        "  return tf.keras.losses.MSE(y,y_hat)"
      ],
      "execution_count": 0,
      "outputs": []
    },
    {
      "cell_type": "code",
      "metadata": {
        "id": "M17dtrb-2iaJ",
        "colab_type": "code",
        "colab": {}
      },
      "source": [
        ""
      ],
      "execution_count": 0,
      "outputs": []
    },
    {
      "cell_type": "code",
      "metadata": {
        "id": "r5CxPSLlmyHd",
        "colab_type": "code",
        "colab": {}
      },
      "source": [
        "def acc1(y,y_pred):\n",
        "  return 1-tf.keras.backend.mean(tf.keras.backend.abs(y-y_pred)/(y))"
      ],
      "execution_count": 0,
      "outputs": []
    },
    {
      "cell_type": "code",
      "metadata": {
        "id": "XkNVkKlImzmC",
        "colab_type": "code",
        "colab": {}
      },
      "source": [
        "def pearson(y,y_pred):\n",
        "  return (tf.keras.backend.mean(y_pred*y)-tf.keras.backend.mean(y_pred)*tf.keras.backend.mean(y))/(tf.keras.backend.std(y_pred)*tf.keras.backend.std(y))"
      ],
      "execution_count": 0,
      "outputs": []
    },
    {
      "cell_type": "code",
      "metadata": {
        "id": "jICN44-4ums8",
        "colab_type": "code",
        "colab": {}
      },
      "source": [
        "model.compile('adam','mse',[acc1,pearson])"
      ],
      "execution_count": 0,
      "outputs": []
    },
    {
      "cell_type": "code",
      "metadata": {
        "id": "tua8E-2P58Xc",
        "colab_type": "code",
        "outputId": "7321a56d-22c7-440d-dcfd-34d04ec4a9d1",
        "colab": {
          "base_uri": "https://localhost:8080/",
          "height": 697
        }
      },
      "source": [
        "hist1 = model.fit([X_train1,X_train2],Y_train,batch_size=32,epochs=20  ,validation_split=0.2)"
      ],
      "execution_count": 0,
      "outputs": [
        {
          "output_type": "stream",
          "text": [
            "Epoch 1/20\n",
            "492/492 [==============================] - 44s 89ms/step - loss: 1.0168 - acc1: 0.6699 - pearson: 0.2770 - val_loss: 0.9673 - val_acc1: 0.6698 - val_pearson: 0.2893\n",
            "Epoch 2/20\n",
            "492/492 [==============================] - 43s 88ms/step - loss: 0.8628 - acc1: 0.7054 - pearson: 0.4423 - val_loss: 0.7922 - val_acc1: 0.7161 - val_pearson: 0.3499\n",
            "Epoch 3/20\n",
            "492/492 [==============================] - 43s 87ms/step - loss: 0.7916 - acc1: 0.7251 - pearson: 0.5001 - val_loss: 0.8519 - val_acc1: 0.6963 - val_pearson: 0.3197\n",
            "Epoch 4/20\n",
            "492/492 [==============================] - 43s 87ms/step - loss: 0.7481 - acc1: 0.7363 - pearson: 0.5366 - val_loss: 0.8132 - val_acc1: 0.7070 - val_pearson: 0.3703\n",
            "Epoch 5/20\n",
            "492/492 [==============================] - 43s 87ms/step - loss: 0.7277 - acc1: 0.7421 - pearson: 0.5608 - val_loss: 0.7664 - val_acc1: 0.7228 - val_pearson: 0.3761\n",
            "Epoch 6/20\n",
            "492/492 [==============================] - 43s 87ms/step - loss: 0.6995 - acc1: 0.7493 - pearson: 0.5777 - val_loss: 0.7935 - val_acc1: 0.7145 - val_pearson: 0.3711\n",
            "Epoch 7/20\n",
            "492/492 [==============================] - 43s 87ms/step - loss: 0.6843 - acc1: 0.7532 - pearson: 0.5926 - val_loss: 0.7759 - val_acc1: 0.7321 - val_pearson: 0.3744\n",
            "Epoch 8/20\n",
            "492/492 [==============================] - 42s 86ms/step - loss: 0.6644 - acc1: 0.7586 - pearson: 0.6009 - val_loss: 0.7739 - val_acc1: 0.7254 - val_pearson: 0.3797\n",
            "Epoch 9/20\n",
            "492/492 [==============================] - 43s 86ms/step - loss: 0.6465 - acc1: 0.7629 - pearson: 0.6120 - val_loss: 0.7762 - val_acc1: 0.7272 - val_pearson: 0.3732\n",
            "Epoch 10/20\n",
            "492/492 [==============================] - 43s 87ms/step - loss: 0.6382 - acc1: 0.7652 - pearson: 0.6268 - val_loss: 0.8363 - val_acc1: 0.7044 - val_pearson: 0.3661\n",
            "Epoch 11/20\n",
            "492/492 [==============================] - 43s 86ms/step - loss: 0.6311 - acc1: 0.7669 - pearson: 0.6258 - val_loss: 0.7861 - val_acc1: 0.7274 - val_pearson: 0.3649\n",
            "Epoch 12/20\n",
            "492/492 [==============================] - 43s 86ms/step - loss: 0.6223 - acc1: 0.7700 - pearson: 0.6373 - val_loss: 0.8268 - val_acc1: 0.7102 - val_pearson: 0.3541\n",
            "Epoch 13/20\n",
            "492/492 [==============================] - 43s 86ms/step - loss: 0.6077 - acc1: 0.7734 - pearson: 0.6448 - val_loss: 0.8184 - val_acc1: 0.7298 - val_pearson: 0.3575\n",
            "Epoch 14/20\n",
            "492/492 [==============================] - 43s 87ms/step - loss: 0.6023 - acc1: 0.7750 - pearson: 0.6490 - val_loss: 0.8076 - val_acc1: 0.7258 - val_pearson: 0.3444\n",
            "Epoch 15/20\n",
            "492/492 [==============================] - 42s 86ms/step - loss: 0.5893 - acc1: 0.7787 - pearson: 0.6572 - val_loss: 0.8181 - val_acc1: 0.7255 - val_pearson: 0.3434\n",
            "Epoch 16/20\n",
            "492/492 [==============================] - 42s 86ms/step - loss: 0.5859 - acc1: 0.7804 - pearson: 0.6613 - val_loss: 0.8431 - val_acc1: 0.7093 - val_pearson: 0.3362\n",
            "Epoch 17/20\n",
            "492/492 [==============================] - 42s 86ms/step - loss: 0.5811 - acc1: 0.7821 - pearson: 0.6632 - val_loss: 0.8212 - val_acc1: 0.7157 - val_pearson: 0.3427\n",
            "Epoch 18/20\n",
            "492/492 [==============================] - 42s 86ms/step - loss: 0.5720 - acc1: 0.7830 - pearson: 0.6689 - val_loss: 0.8490 - val_acc1: 0.7079 - val_pearson: 0.3368\n",
            "Epoch 19/20\n",
            "492/492 [==============================] - 42s 86ms/step - loss: 0.5692 - acc1: 0.7842 - pearson: 0.6716 - val_loss: 0.8337 - val_acc1: 0.7191 - val_pearson: 0.3417\n",
            "Epoch 20/20\n",
            "492/492 [==============================] - 42s 86ms/step - loss: 0.5595 - acc1: 0.7875 - pearson: 0.6763 - val_loss: 0.8322 - val_acc1: 0.7206 - val_pearson: 0.3301\n"
          ],
          "name": "stdout"
        }
      ]
    },
    {
      "cell_type": "code",
      "metadata": {
        "id": "9fXd8pZLwfKq",
        "colab_type": "code",
        "colab": {}
      },
      "source": [
        "def attention_model(dt1,dt2,embeddings=embeddings,batch_size=32):\n",
        "  layer2_1 = tf.keras.layers.Embedding(embeddings.shape[0],embeddings.shape[1],weights=[embeddings],batch_input_shape=[batch_size,None],trainable =False)\n",
        "  \n",
        "  layer2 = tf.keras.layers.LSTM(1024, return_sequences=True, recurrent_initializer='glorot_uniform',recurrent_activation='sigmoid',stateful=True)\n",
        "  layer3 = tf.keras.layers.Dense(150,activation = 'sigmoid')\n",
        "  layer4 = tf.keras.layers.Dense(1,activation = 'sigmoid',)\n",
        "  \n",
        "  layer1 = tf.keras.Input(shape=(None,),batch_size=batch_size)\n",
        "  layer1_2 = tf.keras.Input(shape=(None,),batch_size=batch_size)\n",
        "\n",
        "  out1 = layer2_1(layer1)\n",
        "  out1 = layer2(out1)\n",
        "\n",
        "  out2 = layer2_1(layer1_2)\n",
        "  out2 = layer2(out2)\n",
        "\n",
        "  out3 = tf.keras.layers.Attention()([out1,out2])\n",
        "  out3 = tf.keras.layers.GlobalMaxPooling1D()(out3)\n",
        "  out3 = layer3(out3)\n",
        "  out4 = layer4(out3)\n",
        "  out4 = tf.keras.layers.Lambda(lambda x:x*5)(out4)\n",
        "  return tf.keras.Model([layer1,layer1_2],[out4])\n",
        "\n",
        "\n"
      ],
      "execution_count": 0,
      "outputs": []
    },
    {
      "cell_type": "code",
      "metadata": {
        "id": "vnUFNmMaZ4Cj",
        "colab_type": "code",
        "colab": {}
      },
      "source": [
        "attention = attention_model(X_train1[:48],X_train2[:48])"
      ],
      "execution_count": 0,
      "outputs": []
    },
    {
      "cell_type": "code",
      "metadata": {
        "id": "j5N7kCHxZ32f",
        "colab_type": "code",
        "outputId": "a768dff8-5298-453b-ab5d-aad5788d17f8",
        "colab": {
          "base_uri": "https://localhost:8080/",
          "height": 510
        }
      },
      "source": [
        "attention.summary()\n"
      ],
      "execution_count": 0,
      "outputs": [
        {
          "output_type": "stream",
          "text": [
            "Model: \"model_1\"\n",
            "__________________________________________________________________________________________________\n",
            "Layer (type)                    Output Shape         Param #     Connected to                     \n",
            "==================================================================================================\n",
            "input_3 (InputLayer)            [(32, None)]         0                                            \n",
            "__________________________________________________________________________________________________\n",
            "input_4 (InputLayer)            [(32, None)]         0                                            \n",
            "__________________________________________________________________________________________________\n",
            "embedding_1 (Embedding)         (32, None, 300)      1154400     input_3[0][0]                    \n",
            "                                                                 input_4[0][0]                    \n",
            "__________________________________________________________________________________________________\n",
            "lstm_1 (LSTM)                   (32, None, 1024)     5427200     embedding_1[0][0]                \n",
            "                                                                 embedding_1[1][0]                \n",
            "__________________________________________________________________________________________________\n",
            "attention (Attention)           (32, None, 1024)     0           lstm_1[0][0]                     \n",
            "                                                                 lstm_1[1][0]                     \n",
            "__________________________________________________________________________________________________\n",
            "global_max_pooling1d_1 (GlobalM (32, 1024)           0           attention[0][0]                  \n",
            "__________________________________________________________________________________________________\n",
            "dense_2 (Dense)                 (32, 150)            153750      global_max_pooling1d_1[0][0]     \n",
            "__________________________________________________________________________________________________\n",
            "dense_3 (Dense)                 (32, 1)              151         dense_2[0][0]                    \n",
            "__________________________________________________________________________________________________\n",
            "lambda_1 (Lambda)               (32, 1)              0           dense_3[0][0]                    \n",
            "==================================================================================================\n",
            "Total params: 6,735,501\n",
            "Trainable params: 5,581,101\n",
            "Non-trainable params: 1,154,400\n",
            "__________________________________________________________________________________________________\n"
          ],
          "name": "stdout"
        }
      ]
    },
    {
      "cell_type": "code",
      "metadata": {
        "id": "eBTnxRusdleH",
        "colab_type": "code",
        "colab": {}
      },
      "source": [
        "attention.compile('adam','mse',[acc1,pearson])"
      ],
      "execution_count": 0,
      "outputs": []
    },
    {
      "cell_type": "code",
      "metadata": {
        "id": "c4F48xT5Z3zM",
        "colab_type": "code",
        "outputId": "23f3f131-ef53-41b0-b57c-4aff662f08e0",
        "colab": {
          "base_uri": "https://localhost:8080/",
          "height": 697
        }
      },
      "source": [
        "hist2 = attention.fit([X_train1,X_train2],Y_train,batch_size=32,epochs=20,validation_split=0.2)"
      ],
      "execution_count": 0,
      "outputs": [
        {
          "output_type": "stream",
          "text": [
            "Epoch 1/20\n",
            "492/492 [==============================] - 44s 89ms/step - loss: 1.0961 - acc1: 0.6521 - pearson: 0.0297 - val_loss: 0.9611 - val_acc1: 0.6898 - val_pearson: -0.0236\n",
            "Epoch 2/20\n",
            "492/492 [==============================] - 43s 87ms/step - loss: 1.0518 - acc1: 0.6591 - pearson: 0.1348 - val_loss: 0.9284 - val_acc1: 0.6912 - val_pearson: 0.0854\n",
            "Epoch 3/20\n",
            "492/492 [==============================] - 43s 87ms/step - loss: 1.0292 - acc1: 0.6644 - pearson: 0.2001 - val_loss: 0.9469 - val_acc1: 0.6772 - val_pearson: 0.1306\n",
            "Epoch 4/20\n",
            "492/492 [==============================] - 43s 87ms/step - loss: 1.0159 - acc1: 0.6671 - pearson: 0.2352 - val_loss: 0.9131 - val_acc1: 0.7034 - val_pearson: 0.1784\n",
            "Epoch 5/20\n",
            "492/492 [==============================] - 43s 88ms/step - loss: 0.9676 - acc1: 0.6793 - pearson: 0.3050 - val_loss: 0.8627 - val_acc1: 0.7066 - val_pearson: 0.2004\n",
            "Epoch 6/20\n",
            "492/492 [==============================] - 43s 88ms/step - loss: 0.9059 - acc1: 0.6959 - pearson: 0.3870 - val_loss: 0.8537 - val_acc1: 0.7023 - val_pearson: 0.2177\n",
            "Epoch 7/20\n",
            "492/492 [==============================] - 43s 88ms/step - loss: 0.8676 - acc1: 0.7075 - pearson: 0.4278 - val_loss: 0.8425 - val_acc1: 0.7044 - val_pearson: 0.2499\n",
            "Epoch 8/20\n",
            "492/492 [==============================] - 43s 87ms/step - loss: 0.8323 - acc1: 0.7174 - pearson: 0.4576 - val_loss: 0.8633 - val_acc1: 0.6961 - val_pearson: 0.2486\n",
            "Epoch 9/20\n",
            "492/492 [==============================] - 43s 88ms/step - loss: 0.8081 - acc1: 0.7236 - pearson: 0.4856 - val_loss: 0.8255 - val_acc1: 0.7082 - val_pearson: 0.2663\n",
            "Epoch 10/20\n",
            "492/492 [==============================] - 43s 88ms/step - loss: 0.7882 - acc1: 0.7291 - pearson: 0.4925 - val_loss: 0.9108 - val_acc1: 0.6830 - val_pearson: 0.2683\n",
            "Epoch 11/20\n",
            "492/492 [==============================] - 43s 87ms/step - loss: 0.7703 - acc1: 0.7340 - pearson: 0.5165 - val_loss: 0.8021 - val_acc1: 0.7178 - val_pearson: 0.2816\n",
            "Epoch 12/20\n",
            "492/492 [==============================] - 43s 87ms/step - loss: 0.7495 - acc1: 0.7392 - pearson: 0.5305 - val_loss: 0.8183 - val_acc1: 0.7103 - val_pearson: 0.2874\n",
            "Epoch 13/20\n",
            "492/492 [==============================] - 43s 87ms/step - loss: 0.7326 - acc1: 0.7440 - pearson: 0.5388 - val_loss: 0.7958 - val_acc1: 0.7298 - val_pearson: 0.2907\n",
            "Epoch 14/20\n",
            "492/492 [==============================] - 43s 88ms/step - loss: 0.7295 - acc1: 0.7451 - pearson: 0.5518 - val_loss: 0.8446 - val_acc1: 0.7011 - val_pearson: 0.2957\n",
            "Epoch 15/20\n",
            "492/492 [==============================] - 43s 88ms/step - loss: 0.7192 - acc1: 0.7473 - pearson: 0.5581 - val_loss: 0.7893 - val_acc1: 0.7272 - val_pearson: 0.2961\n",
            "Epoch 16/20\n",
            "492/492 [==============================] - 43s 87ms/step - loss: 0.7115 - acc1: 0.7495 - pearson: 0.5654 - val_loss: 0.7857 - val_acc1: 0.7238 - val_pearson: 0.3035\n",
            "Epoch 17/20\n",
            "492/492 [==============================] - 43s 87ms/step - loss: 0.7039 - acc1: 0.7519 - pearson: 0.5743 - val_loss: 0.7900 - val_acc1: 0.7237 - val_pearson: 0.3078\n",
            "Epoch 18/20\n",
            "492/492 [==============================] - 43s 87ms/step - loss: 0.6995 - acc1: 0.7533 - pearson: 0.5714 - val_loss: 0.7933 - val_acc1: 0.7191 - val_pearson: 0.3099\n",
            "Epoch 19/20\n",
            "492/492 [==============================] - 43s 87ms/step - loss: 0.6915 - acc1: 0.7551 - pearson: 0.5764 - val_loss: 0.7867 - val_acc1: 0.7309 - val_pearson: 0.3098\n",
            "Epoch 20/20\n",
            "492/492 [==============================] - 43s 88ms/step - loss: 0.6900 - acc1: 0.7558 - pearson: 0.5819 - val_loss: 0.8143 - val_acc1: 0.7127 - val_pearson: 0.3101\n"
          ],
          "name": "stdout"
        }
      ]
    },
    {
      "cell_type": "code",
      "metadata": {
        "id": "r1vsmht28r5G",
        "colab_type": "code",
        "colab": {}
      },
      "source": [
        "class plotting():\n",
        "  def __init__(self,mod):\n",
        "    self.mod=mod\n",
        "    \n",
        "  def accPlot(self):\n",
        "    plt.plot(self.mod.history['acc1'])\n",
        "    plt.plot(self.mod.history['val_acc1'])\n",
        "    plt.title('Model Accuracy')\n",
        "    plt.ylabel('Accuracy')\n",
        "    plt.xlabel('Epoch')\n",
        "    plt.legend(['Train', 'Validation'], loc='upper left')\n",
        "    \n",
        "  def lossPlot(self):\n",
        "    plt.plot(self.mod.history['loss'])\n",
        "    plt.plot(self.mod.history['val_loss'])\n",
        "    plt.title('Model Loss')\n",
        "    plt.ylabel('Loss')\n",
        "    plt.xlabel('Epoch')\n",
        "    plt.legend(['Train', 'Validation'], loc='upper right')"
      ],
      "execution_count": 0,
      "outputs": []
    },
    {
      "cell_type": "code",
      "metadata": {
        "id": "TL8_Ckx_8_X_",
        "colab_type": "code",
        "outputId": "8eb09491-3c71-4f67-f1de-399b5bbcad99",
        "colab": {
          "base_uri": "https://localhost:8080/",
          "height": 295
        }
      },
      "source": [
        "plots = plotting(hist1)\n",
        "plots.accPlot()"
      ],
      "execution_count": 0,
      "outputs": [
        {
          "output_type": "display_data",
          "data": {
            "image/png": "[encoded data removed]",
            "text/plain": [
              "<Figure size 432x288 with 1 Axes>"
            ]
          },
          "metadata": {
            "tags": [],
            "needs_background": "light"
          }
        }
      ]
    },
    {
      "cell_type": "code",
      "metadata": {
        "id": "eB_DxsRW8_TF",
        "colab_type": "code",
        "outputId": "78997f70-2c01-40d4-e6d1-d9267fc3b4aa",
        "colab": {
          "base_uri": "https://localhost:8080/",
          "height": 295
        }
      },
      "source": [
        "plots.lossPlot()"
      ],
      "execution_count": 0,
      "outputs": [
        {
          "output_type": "display_data",
          "data": {
            "image/png": "[encoded data removed]",
            "text/plain": [
              "<Figure size 432x288 with 1 Axes>"
            ]
          },
          "metadata": {
            "tags": [],
            "needs_background": "light"
          }
        }
      ]
    },
    {
      "cell_type": "code",
      "metadata": {
        "id": "97bwbVY89MxS",
        "colab_type": "code",
        "outputId": "0b034a82-026a-4983-81f5-9686e62aae22",
        "colab": {
          "base_uri": "https://localhost:8080/",
          "height": 295
        }
      },
      "source": [
        "plots = plotting(hist2)\n",
        "plots.accPlot()"
      ],
      "execution_count": 0,
      "outputs": [
        {
          "output_type": "display_data",
          "data": {
            "image/png": "[encoded data removed]",
            "text/plain": [
              "<Figure size 432x288 with 1 Axes>"
            ]
          },
          "metadata": {
            "tags": [],
            "needs_background": "light"
          }
        }
      ]
    },
    {
      "cell_type": "code",
      "metadata": {
        "id": "hXIeB3KX9MqB",
        "colab_type": "code",
        "outputId": "6f5a4b3d-f1ec-44ab-eadb-7986f03c30d9",
        "colab": {
          "base_uri": "https://localhost:8080/",
          "height": 295
        }
      },
      "source": [
        "plots.lossPlot()"
      ],
      "execution_count": 0,
      "outputs": [
        {
          "output_type": "display_data",
          "data": {
            "image/png": "[encoded data removed]",
            "text/plain": [
              "<Figure size 432x288 with 1 Axes>"
            ]
          },
          "metadata": {
            "tags": [],
            "needs_background": "light"
          }
        }
      ]
    },
    {
      "cell_type": "code",
      "metadata": {
        "id": "-IpGJ4IZbUIt",
        "colab_type": "code",
        "colab": {}
      },
      "source": [
        "#model.save_weights(path+'Minor2_model.h5')"
      ],
      "execution_count": 0,
      "outputs": []
    },
    {
      "cell_type": "code",
      "metadata": {
        "id": "sSAdedigbUGc",
        "colab_type": "code",
        "colab": {}
      },
      "source": [
        "#attention.save_weights(path+'Minor2_attention.h5')"
      ],
      "execution_count": 0,
      "outputs": []
    },
    {
      "cell_type": "code",
      "metadata": {
        "id": "hCae8AK5g0E4",
        "colab_type": "code",
        "colab": {}
      },
      "source": [
        "model1 = attention_model(X_train1,X_train2)"
      ],
      "execution_count": 0,
      "outputs": []
    },
    {
      "cell_type": "code",
      "metadata": {
        "id": "ippT2Rhzg9_W",
        "colab_type": "code",
        "colab": {}
      },
      "source": [
        "model1.load_weights(path+'Minor2_attention.h5')"
      ],
      "execution_count": 0,
      "outputs": []
    },
    {
      "cell_type": "code",
      "metadata": {
        "id": "ZFd94B3Fhgbv",
        "colab_type": "code",
        "colab": {}
      },
      "source": [
        "model1.compile('adam','mse',[pearson])"
      ],
      "execution_count": 0,
      "outputs": []
    },
    {
      "cell_type": "code",
      "metadata": {
        "id": "L2eySkPYhDWT",
        "colab_type": "code",
        "outputId": "50ac8f8f-490c-4782-f375-d663b35ffbfd",
        "colab": {
          "base_uri": "https://localhost:8080/",
          "height": 34
        }
      },
      "source": [
        "acc1(Y_test[:32],model1([X_test1[:32],X_test2[:32]]).numpy()).numpy()"
      ],
      "execution_count": 0,
      "outputs": [
        {
          "output_type": "execute_result",
          "data": {
            "text/plain": [
              "0.7126602578553416"
            ]
          },
          "metadata": {
            "tags": []
          },
          "execution_count": 104
        }
      ]
    },
    {
      "cell_type": "code",
      "metadata": {
        "id": "r6pciZIjyTTa",
        "colab_type": "code",
        "outputId": "8d755f24-4b73-4bcd-fcd6-5800a8ff9dab",
        "colab": {
          "base_uri": "https://localhost:8080/",
          "height": 204
        }
      },
      "source": [
        "# ATTENTION SEQ-REG\n",
        "pd.DataFrame({'Answer': X_test[:32,0],'Correct Answer':X_test[:32,1],'predicted Score': np.squeeze(model1([X_test1[:32],X_test2[:32]]).numpy(),axis=1),'Actual Score': np.squeeze(Y_test[:32],axis=1) }).head()"
      ],
      "execution_count": 0,
      "outputs": [
        {
          "output_type": "execute_result",
          "data": {
            "text/html": [
              "<div>\n",
              "<style scoped>\n",
              "    .dataframe tbody tr th:only-of-type {\n",
              "        vertical-align: middle;\n",
              "    }\n",
              "\n",
              "    .dataframe tbody tr th {\n",
              "        vertical-align: top;\n",
              "    }\n",
              "\n",
              "    .dataframe thead th {\n",
              "        text-align: right;\n",
              "    }\n",
              "</style>\n",
              "<table border=\"1\" class=\"dataframe\">\n",
              "  <thead>\n",
              "    <tr style=\"text-align: right;\">\n",
              "      <th></th>\n",
              "      <th>Answer</th>\n",
              "      <th>Correct Answer</th>\n",
              "      <th>predicted Score</th>\n",
              "      <th>Actual Score</th>\n",
              "    </tr>\n",
              "  </thead>\n",
              "  <tbody>\n",
              "    <tr>\n",
              "      <th>0</th>\n",
              "      <td>High risk problems are address in the prototyp...</td>\n",
              "      <td>To simulate the behaviour of portions of the d...</td>\n",
              "      <td>3.574736</td>\n",
              "      <td>3.5</td>\n",
              "    </tr>\n",
              "    <tr>\n",
              "      <th>1</th>\n",
              "      <td>To simulate portions of the desired final prod...</td>\n",
              "      <td>To simulate the behaviour of portions of the d...</td>\n",
              "      <td>3.761303</td>\n",
              "      <td>5.0</td>\n",
              "    </tr>\n",
              "    <tr>\n",
              "      <th>2</th>\n",
              "      <td>A prototype program simulates the behaviors of...</td>\n",
              "      <td>To simulate the behaviour of portions of the d...</td>\n",
              "      <td>3.785783</td>\n",
              "      <td>4.0</td>\n",
              "    </tr>\n",
              "    <tr>\n",
              "      <th>3</th>\n",
              "      <td>Defined in the Specification phase a prototype...</td>\n",
              "      <td>To simulate the behaviour of portions of the d...</td>\n",
              "      <td>3.866179</td>\n",
              "      <td>5.0</td>\n",
              "    </tr>\n",
              "    <tr>\n",
              "      <th>4</th>\n",
              "      <td>It is used to let the users have a first idea ...</td>\n",
              "      <td>To simulate the behaviour of portions of the d...</td>\n",
              "      <td>3.711810</td>\n",
              "      <td>3.0</td>\n",
              "    </tr>\n",
              "  </tbody>\n",
              "</table>\n",
              "</div>"
            ],
            "text/plain": [
              "                                              Answer  ... Actual Score\n",
              "0  High risk problems are address in the prototyp...  ...          3.5\n",
              "1  To simulate portions of the desired final prod...  ...          5.0\n",
              "2  A prototype program simulates the behaviors of...  ...          4.0\n",
              "3  Defined in the Specification phase a prototype...  ...          5.0\n",
              "4  It is used to let the users have a first idea ...  ...          3.0\n",
              "\n",
              "[5 rows x 4 columns]"
            ]
          },
          "metadata": {
            "tags": []
          },
          "execution_count": 58
        }
      ]
    },
    {
      "cell_type": "code",
      "metadata": {
        "id": "LxOIdolJjbkX",
        "colab_type": "code",
        "colab": {}
      },
      "source": [
        "model1 =  simple_model(X_train1,X_train2)"
      ],
      "execution_count": 0,
      "outputs": []
    },
    {
      "cell_type": "code",
      "metadata": {
        "id": "Pt-abz3rj0gj",
        "colab_type": "code",
        "colab": {}
      },
      "source": [
        "model1.load_weights(path+'Minor2_model.h5')"
      ],
      "execution_count": 0,
      "outputs": []
    },
    {
      "cell_type": "code",
      "metadata": {
        "id": "SCmozo45j5OH",
        "colab_type": "code",
        "colab": {}
      },
      "source": [
        "model1.compile('adam','mse',[acc1])"
      ],
      "execution_count": 0,
      "outputs": []
    },
    {
      "cell_type": "code",
      "metadata": {
        "id": "yQubB773kEkv",
        "colab_type": "code",
        "outputId": "23eab483-025e-47d6-b07c-c6db96f902d9",
        "colab": {
          "base_uri": "https://localhost:8080/",
          "height": 34
        }
      },
      "source": [
        "acc1(Y_test[:32],model1([X_test1[:32],X_test2[:32]])).numpy()"
      ],
      "execution_count": 0,
      "outputs": [
        {
          "output_type": "execute_result",
          "data": {
            "text/plain": [
              "0.6499312"
            ]
          },
          "metadata": {
            "tags": []
          },
          "execution_count": 118
        }
      ]
    },
    {
      "cell_type": "code",
      "metadata": {
        "id": "Jplm8KvsmEvm",
        "colab_type": "code",
        "outputId": "bebc82cd-59f2-4b14-846d-ea31d380bcc8",
        "colab": {
          "base_uri": "https://localhost:8080/",
          "height": 204
        }
      },
      "source": [
        "# SIMPLE SEQ-REG \n",
        "pd.DataFrame({'Answer': X_test[:32,0],'Correct Answer':X_test[:32,1],'predicted Score': np.squeeze(model1([X_test1[:32],X_test2[:32]]).numpy(),axis=1),'Actual Score': np.squeeze(Y_test[:32],axis=1) }).head()"
      ],
      "execution_count": 0,
      "outputs": [
        {
          "output_type": "execute_result",
          "data": {
            "text/html": [
              "<div>\n",
              "<style scoped>\n",
              "    .dataframe tbody tr th:only-of-type {\n",
              "        vertical-align: middle;\n",
              "    }\n",
              "\n",
              "    .dataframe tbody tr th {\n",
              "        vertical-align: top;\n",
              "    }\n",
              "\n",
              "    .dataframe thead th {\n",
              "        text-align: right;\n",
              "    }\n",
              "</style>\n",
              "<table border=\"1\" class=\"dataframe\">\n",
              "  <thead>\n",
              "    <tr style=\"text-align: right;\">\n",
              "      <th></th>\n",
              "      <th>Answer</th>\n",
              "      <th>Correct Answer</th>\n",
              "      <th>predicted Score</th>\n",
              "      <th>Actual Score</th>\n",
              "    </tr>\n",
              "  </thead>\n",
              "  <tbody>\n",
              "    <tr>\n",
              "      <th>0</th>\n",
              "      <td>High risk problems are address in the prototyp...</td>\n",
              "      <td>To simulate the behaviour of portions of the d...</td>\n",
              "      <td>3.362483</td>\n",
              "      <td>3.5</td>\n",
              "    </tr>\n",
              "    <tr>\n",
              "      <th>1</th>\n",
              "      <td>To simulate portions of the desired final prod...</td>\n",
              "      <td>To simulate the behaviour of portions of the d...</td>\n",
              "      <td>3.083215</td>\n",
              "      <td>5.0</td>\n",
              "    </tr>\n",
              "    <tr>\n",
              "      <th>2</th>\n",
              "      <td>A prototype program simulates the behaviors of...</td>\n",
              "      <td>To simulate the behaviour of portions of the d...</td>\n",
              "      <td>3.437054</td>\n",
              "      <td>4.0</td>\n",
              "    </tr>\n",
              "    <tr>\n",
              "      <th>3</th>\n",
              "      <td>Defined in the Specification phase a prototype...</td>\n",
              "      <td>To simulate the behaviour of portions of the d...</td>\n",
              "      <td>3.867269</td>\n",
              "      <td>5.0</td>\n",
              "    </tr>\n",
              "    <tr>\n",
              "      <th>4</th>\n",
              "      <td>It is used to let the users have a first idea ...</td>\n",
              "      <td>To simulate the behaviour of portions of the d...</td>\n",
              "      <td>3.946722</td>\n",
              "      <td>3.0</td>\n",
              "    </tr>\n",
              "  </tbody>\n",
              "</table>\n",
              "</div>"
            ],
            "text/plain": [
              "                                              Answer  ... Actual Score\n",
              "0  High risk problems are address in the prototyp...  ...          3.5\n",
              "1  To simulate portions of the desired final prod...  ...          5.0\n",
              "2  A prototype program simulates the behaviors of...  ...          4.0\n",
              "3  Defined in the Specification phase a prototype...  ...          5.0\n",
              "4  It is used to let the users have a first idea ...  ...          3.0\n",
              "\n",
              "[5 rows x 4 columns]"
            ]
          },
          "metadata": {
            "tags": []
          },
          "execution_count": 62
        }
      ]
    },
    {
      "cell_type": "code",
      "metadata": {
        "id": "IWCIO3Iexziv",
        "colab_type": "code",
        "colab": {}
      },
      "source": [
        ""
      ],
      "execution_count": 0,
      "outputs": []
    }
  ]
}